{
 "cells": [
  {
   "cell_type": "markdown",
   "id": "1a81f8f3",
   "metadata": {},
   "source": [
    "## We are doing similarity matching against an input job description with each document classified in a cluster using cosine similarity. The document with the highest similarity is considered the closest match in the cluster"
   ]
  },
  {
   "cell_type": "markdown",
   "id": "ca0a3906",
   "metadata": {},
   "source": [
    "### Import python libraries required for processing"
   ]
  },
  {
   "cell_type": "code",
   "execution_count": 1,
   "id": "83c7af46",
   "metadata": {},
   "outputs": [],
   "source": [
    "import pandas as pd\n",
    "from sklearn.feature_extraction.text import TfidfVectorizer\n",
    "from sklearn.cluster import KMeans\n",
    "from sklearn.metrics.pairwise import cosine_similarity"
   ]
  },
  {
   "cell_type": "markdown",
   "id": "d2f9be45",
   "metadata": {},
   "source": [
    "### Job Description - will start with simple text"
   ]
  },
  {
   "cell_type": "code",
   "execution_count": 2,
   "id": "54e4826a",
   "metadata": {},
   "outputs": [],
   "source": [
    "job_description = \"This is a new document with similarities.\""
   ]
  },
  {
   "cell_type": "markdown",
   "id": "19aee840",
   "metadata": {},
   "source": [
    "### Resumes - will start with simple texts"
   ]
  },
  {
   "cell_type": "code",
   "execution_count": 3,
   "id": "937abb61",
   "metadata": {},
   "outputs": [],
   "source": [
    "resumes = [\"This is the first document.\",\n",
    "             \"This document is the second document.\",\n",
    "             \"And this is the third one.\",\n",
    "             \"Is this the first document?\"]"
   ]
  },
  {
   "cell_type": "code",
   "execution_count": 4,
   "id": "56bc5fea",
   "metadata": {},
   "outputs": [],
   "source": [
    "df = pd.DataFrame({'Text': resumes})"
   ]
  },
  {
   "cell_type": "markdown",
   "id": "1e9f722d",
   "metadata": {},
   "source": [
    "### Data cleansing - removal of stop words# TF-IDF vectorization"
   ]
  },
  {
   "cell_type": "code",
   "execution_count": 5,
   "id": "e67dde77",
   "metadata": {},
   "outputs": [],
   "source": [
    "vectorizer = TfidfVectorizer(stop_words='english')\n",
    "X = vectorizer.fit_transform(df['Text'])"
   ]
  },
  {
   "cell_type": "markdown",
   "id": "80464050",
   "metadata": {},
   "source": [
    "### Apply K-means clustering on the resumes - currently on sample texts"
   ]
  },
  {
   "cell_type": "code",
   "execution_count": 6,
   "id": "633c2850",
   "metadata": {},
   "outputs": [
    {
     "name": "stderr",
     "output_type": "stream",
     "text": [
      "D:\\ProgramData\\anaconda3\\Lib\\site-packages\\sklearn\\cluster\\_kmeans.py:1412: FutureWarning: The default value of `n_init` will change from 10 to 'auto' in 1.4. Set the value of `n_init` explicitly to suppress the warning\n",
      "  super()._check_params_vs_input(X, default_n_init=10)\n"
     ]
    }
   ],
   "source": [
    "num_clusters = 2\n",
    "kmeans = KMeans(n_clusters=num_clusters, random_state=42)\n",
    "df['Cluster'] = kmeans.fit_predict(X)"
   ]
  },
  {
   "cell_type": "markdown",
   "id": "16260596",
   "metadata": {},
   "source": [
    "### TF-IDF vectorization for the input text"
   ]
  },
  {
   "cell_type": "code",
   "execution_count": 7,
   "id": "4344adb7",
   "metadata": {},
   "outputs": [],
   "source": [
    "input_vector = vectorizer.transform([job_description])"
   ]
  },
  {
   "cell_type": "markdown",
   "id": "b270e27e",
   "metadata": {},
   "source": [
    "### Calculate cosine similarity with each document in the cluster"
   ]
  },
  {
   "cell_type": "code",
   "execution_count": 8,
   "id": "3d74a502",
   "metadata": {},
   "outputs": [],
   "source": [
    "df['Similarity'] = df['Text'].apply(lambda x: cosine_similarity(vectorizer.transform([x]), input_vector).item())"
   ]
  },
  {
   "cell_type": "markdown",
   "id": "11056acd",
   "metadata": {},
   "source": [
    "### Display close matches in the same cluster"
   ]
  },
  {
   "cell_type": "code",
   "execution_count": 9,
   "id": "2a454ed9",
   "metadata": {},
   "outputs": [
    {
     "name": "stdout",
     "output_type": "stream",
     "text": [
      "Close matches in the cluster:\n",
      "                                    Text  Similarity\n",
      "0            This is the first document.    1.000000\n",
      "1  This document is the second document.    0.787223\n",
      "3            Is this the first document?    1.000000\n"
     ]
    }
   ],
   "source": [
    "cluster_matches = df[df['Cluster'] == df.loc[df['Similarity'].idxmax(), 'Cluster']]\n",
    "print(\"Close matches in the cluster:\")\n",
    "print(cluster_matches[['Text', 'Similarity']])"
   ]
  },
  {
   "cell_type": "code",
   "execution_count": null,
   "id": "7cfcec96",
   "metadata": {},
   "outputs": [],
   "source": []
  },
  {
   "cell_type": "code",
   "execution_count": null,
   "id": "64d8b7f5",
   "metadata": {},
   "outputs": [],
   "source": []
  },
  {
   "cell_type": "code",
   "execution_count": null,
   "id": "77ba5c1f",
   "metadata": {},
   "outputs": [],
   "source": []
  }
 ],
 "metadata": {
  "kernelspec": {
   "display_name": "Python 3 (ipykernel)",
   "language": "python",
   "name": "python3"
  },
  "language_info": {
   "codemirror_mode": {
    "name": "ipython",
    "version": 3
   },
   "file_extension": ".py",
   "mimetype": "text/x-python",
   "name": "python",
   "nbconvert_exporter": "python",
   "pygments_lexer": "ipython3",
   "version": "3.11.5"
  }
 },
 "nbformat": 4,
 "nbformat_minor": 5
}
