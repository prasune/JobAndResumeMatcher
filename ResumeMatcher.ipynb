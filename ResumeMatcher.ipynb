{
 "cells": [
  {
   "cell_type": "markdown",
   "id": "1a81f8f3",
   "metadata": {},
   "source": [
    "## We are doing similarity matching against an input job description with each document classified in a cluster using cosine similarity. The document with the highest similarity is considered the closest match in the cluster"
   ]
  },
  {
   "cell_type": "markdown",
   "id": "ca0a3906",
   "metadata": {},
   "source": [
    "### Import python libraries required for processing"
   ]
  },
  {
   "cell_type": "code",
   "execution_count": 1,
   "id": "83c7af46",
   "metadata": {},
   "outputs": [],
   "source": [
    "import pandas as pd\n",
    "from sklearn.feature_extraction.text import TfidfVectorizer\n",
    "from sklearn.cluster import KMeans\n",
    "from sklearn.metrics.pairwise import cosine_similarity"
   ]
  },
  {
   "cell_type": "code",
   "execution_count": 2,
   "id": "6735ca7a",
   "metadata": {},
   "outputs": [],
   "source": [
    "pd.set_option('display.max_colwidth', 100)"
   ]
  },
  {
   "cell_type": "markdown",
   "id": "d2f9be45",
   "metadata": {},
   "source": [
    "### Job Description - will start with simple text"
   ]
  },
  {
   "cell_type": "code",
   "execution_count": 3,
   "id": "54e4826a",
   "metadata": {},
   "outputs": [],
   "source": [
    "job_description = \"Software engineer with skills like java, spring\""
   ]
  },
  {
   "cell_type": "markdown",
   "id": "19aee840",
   "metadata": {},
   "source": [
    "### Resumes - will start with simple texts"
   ]
  },
  {
   "cell_type": "code",
   "execution_count": 4,
   "id": "937abb61",
   "metadata": {},
   "outputs": [],
   "source": [
    "resumes = [\"This software engineer resume contains java, spring, hibernate\",\n",
    "             \"This senior software engineer resume contains java, spring, spring boot\",\n",
    "             \"This is a business analyst resume. jira, ppt, excel\",\n",
    "             \"This is a business analyst. skill like trading, wealth management\",\n",
    "          \"This software engineer resume contains python, pandas, data analysis\",\n",
    "             \"This senior software engineer resume contains python, seaborn, NLP\"]"
   ]
  },
  {
   "cell_type": "code",
   "execution_count": 5,
   "id": "56bc5fea",
   "metadata": {},
   "outputs": [],
   "source": [
    "df = pd.DataFrame({'Text': resumes})"
   ]
  },
  {
   "cell_type": "markdown",
   "id": "1e9f722d",
   "metadata": {},
   "source": [
    "### Data cleansing - removal of stop words# TF-IDF vectorization"
   ]
  },
  {
   "cell_type": "code",
   "execution_count": 6,
   "id": "e67dde77",
   "metadata": {},
   "outputs": [],
   "source": [
    "vectorizer = TfidfVectorizer(stop_words='english')\n",
    "X = vectorizer.fit_transform(df['Text'])"
   ]
  },
  {
   "cell_type": "markdown",
   "id": "80464050",
   "metadata": {},
   "source": [
    "### Apply K-means clustering on the resumes - currently on sample texts"
   ]
  },
  {
   "cell_type": "code",
   "execution_count": 7,
   "id": "633c2850",
   "metadata": {},
   "outputs": [
    {
     "name": "stderr",
     "output_type": "stream",
     "text": [
      "D:\\ProgramData\\anaconda3\\Lib\\site-packages\\sklearn\\cluster\\_kmeans.py:1412: FutureWarning: The default value of `n_init` will change from 10 to 'auto' in 1.4. Set the value of `n_init` explicitly to suppress the warning\n",
      "  super()._check_params_vs_input(X, default_n_init=10)\n"
     ]
    },
    {
     "data": {
      "text/html": [
       "<div>\n",
       "<style scoped>\n",
       "    .dataframe tbody tr th:only-of-type {\n",
       "        vertical-align: middle;\n",
       "    }\n",
       "\n",
       "    .dataframe tbody tr th {\n",
       "        vertical-align: top;\n",
       "    }\n",
       "\n",
       "    .dataframe thead th {\n",
       "        text-align: right;\n",
       "    }\n",
       "</style>\n",
       "<table border=\"1\" class=\"dataframe\">\n",
       "  <thead>\n",
       "    <tr style=\"text-align: right;\">\n",
       "      <th></th>\n",
       "      <th>Text</th>\n",
       "      <th>Cluster</th>\n",
       "    </tr>\n",
       "  </thead>\n",
       "  <tbody>\n",
       "    <tr>\n",
       "      <th>0</th>\n",
       "      <td>This software engineer resume contains java, spring, hibernate</td>\n",
       "      <td>2</td>\n",
       "    </tr>\n",
       "    <tr>\n",
       "      <th>1</th>\n",
       "      <td>This senior software engineer resume contains java, spring, spring boot</td>\n",
       "      <td>2</td>\n",
       "    </tr>\n",
       "    <tr>\n",
       "      <th>2</th>\n",
       "      <td>This is a business analyst resume. jira, ppt, excel</td>\n",
       "      <td>0</td>\n",
       "    </tr>\n",
       "    <tr>\n",
       "      <th>3</th>\n",
       "      <td>This is a business analyst. skill like trading, wealth management</td>\n",
       "      <td>0</td>\n",
       "    </tr>\n",
       "    <tr>\n",
       "      <th>4</th>\n",
       "      <td>This software engineer resume contains python, pandas, data analysis</td>\n",
       "      <td>1</td>\n",
       "    </tr>\n",
       "    <tr>\n",
       "      <th>5</th>\n",
       "      <td>This senior software engineer resume contains python, seaborn, NLP</td>\n",
       "      <td>1</td>\n",
       "    </tr>\n",
       "  </tbody>\n",
       "</table>\n",
       "</div>"
      ],
      "text/plain": [
       "                                                                      Text  \\\n",
       "0           This software engineer resume contains java, spring, hibernate   \n",
       "1  This senior software engineer resume contains java, spring, spring boot   \n",
       "2                      This is a business analyst resume. jira, ppt, excel   \n",
       "3        This is a business analyst. skill like trading, wealth management   \n",
       "4     This software engineer resume contains python, pandas, data analysis   \n",
       "5       This senior software engineer resume contains python, seaborn, NLP   \n",
       "\n",
       "   Cluster  \n",
       "0        2  \n",
       "1        2  \n",
       "2        0  \n",
       "3        0  \n",
       "4        1  \n",
       "5        1  "
      ]
     },
     "execution_count": 7,
     "metadata": {},
     "output_type": "execute_result"
    }
   ],
   "source": [
    "num_clusters = 3\n",
    "kmeans = KMeans(n_clusters=num_clusters, random_state=42)\n",
    "df['Cluster'] = kmeans.fit_predict(X)\n",
    "df"
   ]
  },
  {
   "cell_type": "markdown",
   "id": "16260596",
   "metadata": {},
   "source": [
    "### TF-IDF vectorization for the input text"
   ]
  },
  {
   "cell_type": "code",
   "execution_count": 8,
   "id": "4344adb7",
   "metadata": {},
   "outputs": [],
   "source": [
    "input_vector = vectorizer.transform([job_description])"
   ]
  },
  {
   "cell_type": "markdown",
   "id": "b270e27e",
   "metadata": {},
   "source": [
    "### Calculate cosine similarity with each document in the cluster"
   ]
  },
  {
   "cell_type": "code",
   "execution_count": 9,
   "id": "3d74a502",
   "metadata": {},
   "outputs": [
    {
     "data": {
      "text/html": [
       "<div>\n",
       "<style scoped>\n",
       "    .dataframe tbody tr th:only-of-type {\n",
       "        vertical-align: middle;\n",
       "    }\n",
       "\n",
       "    .dataframe tbody tr th {\n",
       "        vertical-align: top;\n",
       "    }\n",
       "\n",
       "    .dataframe thead th {\n",
       "        text-align: right;\n",
       "    }\n",
       "</style>\n",
       "<table border=\"1\" class=\"dataframe\">\n",
       "  <thead>\n",
       "    <tr style=\"text-align: right;\">\n",
       "      <th></th>\n",
       "      <th>Text</th>\n",
       "      <th>Cluster</th>\n",
       "      <th>Similarity</th>\n",
       "    </tr>\n",
       "  </thead>\n",
       "  <tbody>\n",
       "    <tr>\n",
       "      <th>0</th>\n",
       "      <td>This software engineer resume contains java, spring, hibernate</td>\n",
       "      <td>2</td>\n",
       "      <td>0.613055</td>\n",
       "    </tr>\n",
       "    <tr>\n",
       "      <th>1</th>\n",
       "      <td>This senior software engineer resume contains java, spring, spring boot</td>\n",
       "      <td>2</td>\n",
       "      <td>0.618316</td>\n",
       "    </tr>\n",
       "    <tr>\n",
       "      <th>2</th>\n",
       "      <td>This is a business analyst resume. jira, ppt, excel</td>\n",
       "      <td>0</td>\n",
       "      <td>0.000000</td>\n",
       "    </tr>\n",
       "    <tr>\n",
       "      <th>3</th>\n",
       "      <td>This is a business analyst. skill like trading, wealth management</td>\n",
       "      <td>0</td>\n",
       "      <td>0.227367</td>\n",
       "    </tr>\n",
       "    <tr>\n",
       "      <th>4</th>\n",
       "      <td>This software engineer resume contains python, pandas, data analysis</td>\n",
       "      <td>1</td>\n",
       "      <td>0.180457</td>\n",
       "    </tr>\n",
       "    <tr>\n",
       "      <th>5</th>\n",
       "      <td>This senior software engineer resume contains python, seaborn, NLP</td>\n",
       "      <td>1</td>\n",
       "      <td>0.186688</td>\n",
       "    </tr>\n",
       "  </tbody>\n",
       "</table>\n",
       "</div>"
      ],
      "text/plain": [
       "                                                                      Text  \\\n",
       "0           This software engineer resume contains java, spring, hibernate   \n",
       "1  This senior software engineer resume contains java, spring, spring boot   \n",
       "2                      This is a business analyst resume. jira, ppt, excel   \n",
       "3        This is a business analyst. skill like trading, wealth management   \n",
       "4     This software engineer resume contains python, pandas, data analysis   \n",
       "5       This senior software engineer resume contains python, seaborn, NLP   \n",
       "\n",
       "   Cluster  Similarity  \n",
       "0        2    0.613055  \n",
       "1        2    0.618316  \n",
       "2        0    0.000000  \n",
       "3        0    0.227367  \n",
       "4        1    0.180457  \n",
       "5        1    0.186688  "
      ]
     },
     "execution_count": 9,
     "metadata": {},
     "output_type": "execute_result"
    }
   ],
   "source": [
    "df['Similarity'] = df['Text'].apply(lambda x: cosine_similarity(vectorizer.transform([x]), input_vector).item())\n",
    "df"
   ]
  },
  {
   "cell_type": "markdown",
   "id": "11056acd",
   "metadata": {},
   "source": [
    "### Display close matches in the same cluster"
   ]
  },
  {
   "cell_type": "code",
   "execution_count": 10,
   "id": "2a454ed9",
   "metadata": {},
   "outputs": [
    {
     "name": "stdout",
     "output_type": "stream",
     "text": [
      "Close matches in the cluster:\n",
      "                                                                      Text  \\\n",
      "0           This software engineer resume contains java, spring, hibernate   \n",
      "1  This senior software engineer resume contains java, spring, spring boot   \n",
      "\n",
      "   Similarity  \n",
      "0    0.613055  \n",
      "1    0.618316  \n"
     ]
    }
   ],
   "source": [
    "cluster_matches = df[df['Cluster'] == df.loc[df['Similarity'].idxmax(), 'Cluster']]\n",
    "print(\"Close matches in the cluster:\")\n",
    "print(cluster_matches[['Text', 'Similarity']])"
   ]
  },
  {
   "cell_type": "code",
   "execution_count": null,
   "id": "7cfcec96",
   "metadata": {},
   "outputs": [],
   "source": []
  },
  {
   "cell_type": "code",
   "execution_count": null,
   "id": "64d8b7f5",
   "metadata": {},
   "outputs": [],
   "source": []
  },
  {
   "cell_type": "code",
   "execution_count": null,
   "id": "77ba5c1f",
   "metadata": {},
   "outputs": [],
   "source": []
  }
 ],
 "metadata": {
  "kernelspec": {
   "display_name": "Python 3 (ipykernel)",
   "language": "python",
   "name": "python3"
  },
  "language_info": {
   "codemirror_mode": {
    "name": "ipython",
    "version": 3
   },
   "file_extension": ".py",
   "mimetype": "text/x-python",
   "name": "python",
   "nbconvert_exporter": "python",
   "pygments_lexer": "ipython3",
   "version": "3.11.5"
  }
 },
 "nbformat": 4,
 "nbformat_minor": 5
}
